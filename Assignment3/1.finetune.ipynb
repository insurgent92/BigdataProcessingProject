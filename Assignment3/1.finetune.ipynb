{
 "cells": [
  {
   "cell_type": "markdown",
   "metadata": {},
   "source": [
    "# Assignment3 - finetune 절차\n",
    "####                   201716201 이재원 "
   ]
  },
  {
   "cell_type": "markdown",
   "metadata": {},
   "source": [
    "## **1. Fine Tune 절차**\n",
    "    1) 사전 학습된 기본 네트워크 상단에 새로운 네트워크 추가\n",
    "        1.1) VGG16 불러오기\n",
    "        1.2) 상단에 새로운 네트워크 추가  \n",
    "        \n",
    "    2) 기본 네트워크를 고정\n",
    " \n",
    "    3) 새로 추가한 부분을 학습 및 평가\n",
    "    \n",
    "    4) 기본 계층중에 학습시킬 부분의 고정 해제\n",
    "    \n",
    "    5) 고정을 푼 계층과 새로 추가한 계층을 함께 훈련\n",
    "    "
   ]
  },
  {
   "cell_type": "markdown",
   "metadata": {},
   "source": [
    "**0) 기본설정**"
   ]
  },
  {
   "cell_type": "code",
   "execution_count": 1,
   "metadata": {
    "ExecuteTime": {
     "end_time": "2018-06-04T13:23:19.795301Z",
     "start_time": "2018-06-04T13:23:17.369699Z"
    }
   },
   "outputs": [
    {
     "name": "stderr",
     "output_type": "stream",
     "text": [
      "C:\\ProgramData\\Anaconda3\\envs\\py36tf18\\lib\\site-packages\\h5py\\__init__.py:36: FutureWarning: Conversion of the second argument of issubdtype from `float` to `np.floating` is deprecated. In future, it will be treated as `np.float64 == np.dtype(float).type`.\n",
      "  from ._conv import register_converters as _register_converters\n",
      "Using TensorFlow backend.\n"
     ]
    }
   ],
   "source": [
    "from keras.applications import VGG16\n",
    "from keras import models\n",
    "from keras import layers\n",
    "from keras.preprocessing.image import ImageDataGenerator\n",
    "from keras import models\n",
    "from keras import layers\n",
    "from keras import optimizers\n",
    "import matplotlib.pyplot as plt\n",
    "%matplotlib inline\n",
    "import os\n",
    "\n",
    "base_dir = 'H:/kaggle/catdog/train/small_cats'\n",
    "train_dir = os.path.join(base_dir, 'train')\n",
    "validation_dir = os.path.join(base_dir, 'validation')\n",
    "test_dir = os.path.join(base_dir, 'test')"
   ]
  },
  {
   "cell_type": "markdown",
   "metadata": {},
   "source": [
    "**1.1) VGG16 불러오기**"
   ]
  },
  {
   "cell_type": "code",
   "execution_count": 2,
   "metadata": {
    "ExecuteTime": {
     "end_time": "2018-06-04T13:23:21.374393Z",
     "start_time": "2018-06-04T13:23:19.804296Z"
    }
   },
   "outputs": [],
   "source": [
    "conv_base = VGG16(weights='imagenet',\n",
    "                  include_top=False,\n",
    "                  input_shape=(150, 150, 3))"
   ]
  },
  {
   "cell_type": "markdown",
   "metadata": {},
   "source": [
    "**1.2) 상단에 새로운 네트워크 추가**"
   ]
  },
  {
   "cell_type": "code",
   "execution_count": 3,
   "metadata": {
    "ExecuteTime": {
     "end_time": "2018-06-04T13:23:21.460358Z",
     "start_time": "2018-06-04T13:23:21.388384Z"
    }
   },
   "outputs": [],
   "source": [
    "model = models.Sequential()\n",
    "model.add(conv_base)\n",
    "model.add(layers.Flatten())\n",
    "model.add(layers.Dense(256, activation='relu'))\n",
    "model.add(layers.Dense(1, activation='sigmoid'))"
   ]
  },
  {
   "cell_type": "markdown",
   "metadata": {},
   "source": [
    "**2) 기본 네트워크를 고정**"
   ]
  },
  {
   "cell_type": "code",
   "execution_count": 4,
   "metadata": {
    "ExecuteTime": {
     "end_time": "2018-06-04T13:23:21.477343Z",
     "start_time": "2018-06-04T13:23:21.472335Z"
    }
   },
   "outputs": [
    {
     "name": "stdout",
     "output_type": "stream",
     "text": [
      "This is the number of trainable weights before freezing the conv base: 30\n",
      "This is the number of trainable weights after freezing the conv base: 4\n"
     ]
    }
   ],
   "source": [
    "print('This is the number of trainable weights before freezing the conv base:', len(model.trainable_weights))\n",
    "conv_base.trainable = False\n",
    "print('This is the number of trainable weights after freezing the conv base:', len(model.trainable_weights))"
   ]
  },
  {
   "cell_type": "markdown",
   "metadata": {},
   "source": [
    "**3.1) 새로 추가된 부분을 학습 **"
   ]
  },
  {
   "cell_type": "code",
   "execution_count": 9,
   "metadata": {
    "ExecuteTime": {
     "end_time": "2018-06-04T13:25:02.450148Z",
     "start_time": "2018-06-04T13:25:02.200292Z"
    }
   },
   "outputs": [
    {
     "name": "stdout",
     "output_type": "stream",
     "text": [
      "Found 2000 images belonging to 2 classes.\n",
      "Found 1000 images belonging to 2 classes.\n"
     ]
    }
   ],
   "source": [
    "train_datagen = ImageDataGenerator(\n",
    "      rescale=1./255,\n",
    "      rotation_range=40,\n",
    "      width_shift_range=0.2,\n",
    "      height_shift_range=0.2,\n",
    "      shear_range=0.2,\n",
    "      zoom_range=0.2,\n",
    "      horizontal_flip=True,\n",
    "      fill_mode='nearest')\n",
    "\n",
    "# Note that the validation data should not be augmented!\n",
    "test_datagen = ImageDataGenerator(rescale=1./255)\n",
    "\n",
    "train_generator = train_datagen.flow_from_directory(\n",
    "        # This is the target directory\n",
    "        train_dir,\n",
    "        # All images will be resized to 150x150\n",
    "        target_size=(150, 150),\n",
    "        batch_size=20,\n",
    "        # Since we use binary_crossentropy loss, we need binary labels\n",
    "        class_mode='binary')\n",
    "\n",
    "validation_generator = test_datagen.flow_from_directory(\n",
    "        validation_dir,\n",
    "        target_size=(150, 150),\n",
    "        batch_size=20,\n",
    "        class_mode='binary')\n",
    "\n",
    "model.compile(loss='binary_crossentropy',\n",
    "              optimizer=optimizers.RMSprop(lr=2e-5),\n",
    "              metrics=['acc'])"
   ]
  },
  {
   "cell_type": "code",
   "execution_count": 14,
   "metadata": {},
   "outputs": [
    {
     "name": "stdout",
     "output_type": "stream",
     "text": [
      "Found 2000 images belonging to 2 classes.\n",
      "Found 1000 images belonging to 2 classes.\n",
      "Epoch 1/30\n",
      " - 23s - loss: 0.5949 - acc: 0.6940 - val_loss: 0.4443 - val_acc: 0.8260\n",
      "Epoch 2/30\n",
      " - 20s - loss: 0.4766 - acc: 0.7860 - val_loss: 0.3633 - val_acc: 0.8540\n",
      "Epoch 3/30\n",
      " - 20s - loss: 0.4188 - acc: 0.8155 - val_loss: 0.3208 - val_acc: 0.8740\n",
      "Epoch 4/30\n",
      " - 20s - loss: 0.4038 - acc: 0.8185 - val_loss: 0.2996 - val_acc: 0.8880\n",
      "Epoch 5/30\n",
      " - 20s - loss: 0.3666 - acc: 0.8430 - val_loss: 0.2852 - val_acc: 0.8910\n",
      "Epoch 6/30\n",
      " - 20s - loss: 0.3669 - acc: 0.8430 - val_loss: 0.2778 - val_acc: 0.8930\n",
      "Epoch 7/30\n",
      " - 20s - loss: 0.3490 - acc: 0.8400 - val_loss: 0.2716 - val_acc: 0.8950\n",
      "Epoch 8/30\n",
      " - 20s - loss: 0.3527 - acc: 0.8435 - val_loss: 0.2642 - val_acc: 0.8950\n",
      "Epoch 9/30\n",
      " - 20s - loss: 0.3337 - acc: 0.8495 - val_loss: 0.2655 - val_acc: 0.8950\n",
      "Epoch 10/30\n",
      " - 20s - loss: 0.3282 - acc: 0.8620 - val_loss: 0.2553 - val_acc: 0.9010\n",
      "Epoch 11/30\n",
      " - 20s - loss: 0.3236 - acc: 0.8510 - val_loss: 0.2539 - val_acc: 0.8940\n",
      "Epoch 12/30\n",
      " - 20s - loss: 0.3215 - acc: 0.8570 - val_loss: 0.2552 - val_acc: 0.9000\n",
      "Epoch 13/30\n",
      " - 20s - loss: 0.3248 - acc: 0.8590 - val_loss: 0.2502 - val_acc: 0.8950\n",
      "Epoch 14/30\n",
      " - 20s - loss: 0.3128 - acc: 0.8680 - val_loss: 0.2560 - val_acc: 0.8960\n",
      "Epoch 15/30\n",
      " - 20s - loss: 0.3249 - acc: 0.8615 - val_loss: 0.2468 - val_acc: 0.8980\n",
      "Epoch 16/30\n",
      " - 20s - loss: 0.3018 - acc: 0.8680 - val_loss: 0.2446 - val_acc: 0.9010\n",
      "Epoch 17/30\n",
      " - 20s - loss: 0.2997 - acc: 0.8785 - val_loss: 0.2416 - val_acc: 0.9030\n",
      "Epoch 18/30\n",
      " - 20s - loss: 0.2949 - acc: 0.8690 - val_loss: 0.2539 - val_acc: 0.8970\n",
      "Epoch 19/30\n",
      " - 20s - loss: 0.2960 - acc: 0.8765 - val_loss: 0.2434 - val_acc: 0.9040\n",
      "Epoch 20/30\n",
      " - 20s - loss: 0.2827 - acc: 0.8770 - val_loss: 0.2531 - val_acc: 0.8960\n",
      "Epoch 21/30\n",
      " - 21s - loss: 0.2998 - acc: 0.8695 - val_loss: 0.2467 - val_acc: 0.9010\n",
      "Epoch 22/30\n",
      " - 20s - loss: 0.2850 - acc: 0.8735 - val_loss: 0.2564 - val_acc: 0.8960\n",
      "Epoch 23/30\n",
      " - 20s - loss: 0.3061 - acc: 0.8640 - val_loss: 0.2408 - val_acc: 0.9040\n",
      "Epoch 24/30\n",
      " - 20s - loss: 0.2807 - acc: 0.8815 - val_loss: 0.2416 - val_acc: 0.9010\n",
      "Epoch 25/30\n",
      " - 20s - loss: 0.2786 - acc: 0.8860 - val_loss: 0.2388 - val_acc: 0.9020\n",
      "Epoch 26/30\n",
      " - 20s - loss: 0.2801 - acc: 0.8775 - val_loss: 0.2530 - val_acc: 0.8980\n",
      "Epoch 27/30\n",
      " - 20s - loss: 0.2881 - acc: 0.8720 - val_loss: 0.2398 - val_acc: 0.9020\n",
      "Epoch 28/30\n",
      " - 20s - loss: 0.2829 - acc: 0.8815 - val_loss: 0.2377 - val_acc: 0.9040\n",
      "Epoch 29/30\n",
      " - 20s - loss: 0.2815 - acc: 0.8785 - val_loss: 0.2384 - val_acc: 0.9020\n",
      "Epoch 30/30\n",
      " - 20s - loss: 0.2637 - acc: 0.8890 - val_loss: 0.2354 - val_acc: 0.9020\n"
     ]
    }
   ],
   "source": [
    "history = model.fit_generator(\n",
    "      train_generator,\n",
    "      steps_per_epoch=100,\n",
    "      epochs=30,\n",
    "      validation_data=validation_generator,\n",
    "      validation_steps=50,\n",
    "      verbose=2)"
   ]
  },
  {
   "cell_type": "markdown",
   "metadata": {},
   "source": [
    "**3.2) Model 저장 및 평가**"
   ]
  },
  {
   "cell_type": "code",
   "execution_count": null,
   "metadata": {},
   "outputs": [],
   "source": [
    "model.save('cats_and_dogs_small_3.h5')\n",
    "acc = history.history['acc']\n",
    "val_acc = history.history['val_acc']\n",
    "loss = history.history['loss']\n",
    "val_loss = history.history['val_loss']\n",
    "\n",
    "epochs = range(len(acc))\n",
    "\n",
    "plt.plot(epochs, acc, 'bo', label='Training acc')\n",
    "plt.plot(epochs, val_acc, 'b', label='Validation acc')\n",
    "plt.title('Training and validation accuracy')\n",
    "plt.legend()\n",
    "\n",
    "plt.figure()\n",
    "\n",
    "plt.plot(epochs, loss, 'bo', label='Training loss')\n",
    "plt.plot(epochs, val_loss, 'b', label='Validation loss')\n",
    "plt.title('Training and validation loss')\n",
    "plt.legend()\n",
    "\n",
    "plt.show()"
   ]
  },
  {
   "cell_type": "code",
   "execution_count": 5,
   "metadata": {
    "ExecuteTime": {
     "end_time": "2018-06-04T13:24:36.128316Z",
     "start_time": "2018-06-04T13:24:35.145882Z"
    }
   },
   "outputs": [
    {
     "name": "stderr",
     "output_type": "stream",
     "text": [
      "C:\\ProgramData\\Anaconda3\\envs\\py36tf18\\lib\\site-packages\\keras\\models.py:318: UserWarning: Error in loading the saved optimizer state. As a result, your model is starting with a freshly initialized optimizer.\n",
      "  warnings.warn('Error in loading the saved optimizer '\n"
     ]
    }
   ],
   "source": [
    "from keras.models import load_model\n",
    "model = load_model('cats_and_dogs_small_3.h5')"
   ]
  },
  {
   "cell_type": "markdown",
   "metadata": {},
   "source": [
    "**4.1) 기본 계층중에 학습시킬 부분의 고정 해제**"
   ]
  },
  {
   "cell_type": "code",
   "execution_count": 6,
   "metadata": {
    "ExecuteTime": {
     "end_time": "2018-06-04T13:24:38.932699Z",
     "start_time": "2018-06-04T13:24:38.928702Z"
    }
   },
   "outputs": [],
   "source": [
    "conv_base.trainable = True\n",
    "\n",
    "set_trainable = False\n",
    "for layer in conv_base.layers:\n",
    "    if layer.name == 'block5_conv1':\n",
    "        set_trainable = True\n",
    "    if set_trainable:\n",
    "        layer.trainable = True\n",
    "    else:\n",
    "        layer.trainable = False\n",
    "        \n",
    "    "
   ]
  },
  {
   "cell_type": "code",
   "execution_count": 7,
   "metadata": {
    "ExecuteTime": {
     "end_time": "2018-06-04T13:24:39.814192Z",
     "start_time": "2018-06-04T13:24:39.810203Z"
    }
   },
   "outputs": [
    {
     "name": "stdout",
     "output_type": "stream",
     "text": [
      "This is the number of trainable weights before freezing the conv base: 30\n"
     ]
    }
   ],
   "source": [
    "print('This is the number of trainable weights before freezing the conv base:', len(model.trainable_weights))\n",
    "#conv_base.trainable = False\n",
    "#print('This is the number of trainable weights after freezing the conv base:', len(model.trainable_weights))"
   ]
  },
  {
   "cell_type": "markdown",
   "metadata": {},
   "source": [
    "**5) 고정을 푼 계층과 새로 추가한 계층을 함께 훈련**"
   ]
  },
  {
   "cell_type": "code",
   "execution_count": 10,
   "metadata": {
    "ExecuteTime": {
     "end_time": "2018-06-04T13:40:07.354174Z",
     "start_time": "2018-06-04T13:25:17.691365Z"
    }
   },
   "outputs": [
    {
     "name": "stdout",
     "output_type": "stream",
     "text": [
      "Epoch 1/20\n",
      "100/100 [==============================] - 49s 491ms/step - loss: 0.3066 - acc: 0.8740 - val_loss: 0.1428 - val_acc: 0.9400\n",
      "Epoch 2/20\n",
      "100/100 [==============================] - 44s 442ms/step - loss: 0.2001 - acc: 0.9160 - val_loss: 0.1173 - val_acc: 0.9490\n",
      "Epoch 3/20\n",
      "100/100 [==============================] - 44s 442ms/step - loss: 0.1683 - acc: 0.9295 - val_loss: 0.1242 - val_acc: 0.9460\n",
      "Epoch 4/20\n",
      "100/100 [==============================] - 44s 445ms/step - loss: 0.1380 - acc: 0.9465 - val_loss: 0.1092 - val_acc: 0.9580\n",
      "Epoch 5/20\n",
      "100/100 [==============================] - 44s 441ms/step - loss: 0.1275 - acc: 0.9455 - val_loss: 0.0939 - val_acc: 0.9630\n",
      "Epoch 6/20\n",
      "100/100 [==============================] - 44s 441ms/step - loss: 0.1229 - acc: 0.9495 - val_loss: 0.1059 - val_acc: 0.9600\n",
      "Epoch 7/20\n",
      "100/100 [==============================] - 44s 444ms/step - loss: 0.0920 - acc: 0.9605 - val_loss: 0.1584 - val_acc: 0.9530\n",
      "Epoch 8/20\n",
      "100/100 [==============================] - 44s 440ms/step - loss: 0.0954 - acc: 0.9585 - val_loss: 0.1087 - val_acc: 0.9530\n",
      "Epoch 9/20\n",
      "100/100 [==============================] - 44s 441ms/step - loss: 0.0881 - acc: 0.9650 - val_loss: 0.0827 - val_acc: 0.9680\n",
      "Epoch 10/20\n",
      "100/100 [==============================] - 44s 441ms/step - loss: 0.0790 - acc: 0.9740 - val_loss: 0.0910 - val_acc: 0.9660\n",
      "Epoch 11/20\n",
      "100/100 [==============================] - 44s 441ms/step - loss: 0.0749 - acc: 0.9770 - val_loss: 0.0934 - val_acc: 0.9670\n",
      "Epoch 12/20\n",
      "100/100 [==============================] - 44s 443ms/step - loss: 0.0612 - acc: 0.9775 - val_loss: 0.1235 - val_acc: 0.9650\n",
      "Epoch 13/20\n",
      "100/100 [==============================] - 45s 449ms/step - loss: 0.0628 - acc: 0.9770 - val_loss: 0.1521 - val_acc: 0.9460\n",
      "Epoch 14/20\n",
      "100/100 [==============================] - 44s 444ms/step - loss: 0.0563 - acc: 0.9765 - val_loss: 0.1002 - val_acc: 0.9620\n",
      "Epoch 15/20\n",
      "100/100 [==============================] - 44s 444ms/step - loss: 0.0568 - acc: 0.9785 - val_loss: 0.1096 - val_acc: 0.9580\n",
      "Epoch 16/20\n",
      "100/100 [==============================] - 45s 446ms/step - loss: 0.0392 - acc: 0.9870 - val_loss: 0.0900 - val_acc: 0.9680\n",
      "Epoch 17/20\n",
      "100/100 [==============================] - 44s 440ms/step - loss: 0.0556 - acc: 0.9775 - val_loss: 0.1033 - val_acc: 0.9680\n",
      "Epoch 18/20\n",
      "100/100 [==============================] - 44s 439ms/step - loss: 0.0385 - acc: 0.9845 - val_loss: 0.0924 - val_acc: 0.9670\n",
      "Epoch 19/20\n",
      "100/100 [==============================] - 44s 439ms/step - loss: 0.0467 - acc: 0.9835 - val_loss: 0.1093 - val_acc: 0.9720\n",
      "Epoch 20/20\n",
      "100/100 [==============================] - 44s 438ms/step - loss: 0.0377 - acc: 0.9910 - val_loss: 0.1808 - val_acc: 0.9500\n"
     ]
    }
   ],
   "source": [
    "model.compile(loss='binary_crossentropy',\n",
    "              optimizer=optimizers.RMSprop(lr=1e-5),\n",
    "              metrics=['acc'])\n",
    "\n",
    "history = model.fit_generator(\n",
    "      train_generator,\n",
    "      steps_per_epoch=100,\n",
    "      epochs=20,\n",
    "      validation_data=validation_generator,\n",
    "      validation_steps=50)"
   ]
  },
  {
   "cell_type": "code",
   "execution_count": 11,
   "metadata": {
    "ExecuteTime": {
     "end_time": "2018-06-04T13:50:04.757928Z",
     "start_time": "2018-06-04T13:50:04.496079Z"
    }
   },
   "outputs": [],
   "source": [
    " model.save('cats_and_dogs_small_4_finetune.h5')"
   ]
  },
  {
   "cell_type": "code",
   "execution_count": 12,
   "metadata": {
    "ExecuteTime": {
     "end_time": "2018-06-04T13:50:07.631272Z",
     "start_time": "2018-06-04T13:50:07.394409Z"
    }
   },
   "outputs": [
    {
     "data": {
      "image/png": "[encoded data removed]",
      "text/plain": [
       "<Figure size 432x288 with 1 Axes>"
      ]
     },
     "metadata": {},
     "output_type": "display_data"
    },
    {
     "data": {
      "image/png": "[encoded data removed]",
      "text/plain": [
       "<Figure size 432x288 with 1 Axes>"
      ]
     },
     "metadata": {},
     "output_type": "display_data"
    }
   ],
   "source": [
    "acc = history.history['acc']\n",
    "val_acc = history.history['val_acc']\n",
    "loss = history.history['loss']\n",
    "val_loss = history.history['val_loss']\n",
    "\n",
    "epochs = range(len(acc))\n",
    "\n",
    "plt.plot(epochs, acc, 'bo', label='Training acc')\n",
    "plt.plot(epochs, val_acc, 'b', label='Validation acc')\n",
    "plt.title('Training and validation accuracy')\n",
    "plt.legend()\n",
    "\n",
    "plt.figure()\n",
    "\n",
    "plt.plot(epochs, loss, 'bo', label='Training loss')\n",
    "plt.plot(epochs, val_loss, 'b', label='Validation loss')\n",
    "plt.title('Training and validation loss')\n",
    "plt.legend()\n",
    "\n",
    "plt.show()"
   ]
  },
  {
   "cell_type": "code",
   "execution_count": 13,
   "metadata": {
    "ExecuteTime": {
     "end_time": "2018-06-04T13:50:08.485778Z",
     "start_time": "2018-06-04T13:50:08.285895Z"
    }
   },
   "outputs": [
    {
     "data": {
      "image/png": "[encoded data removed]",
      "text/plain": [
       "<Figure size 432x288 with 1 Axes>"
      ]
     },
     "metadata": {},
     "output_type": "display_data"
    },
    {
     "data": {
      "image/png": "[encoded data removed]",
      "text/plain": [
       "<Figure size 432x288 with 1 Axes>"
      ]
     },
     "metadata": {},
     "output_type": "display_data"
    }
   ],
   "source": [
    "def smooth_curve(points, factor=0.8):\n",
    "  smoothed_points = []\n",
    "  for point in points:\n",
    "    if smoothed_points:\n",
    "      previous = smoothed_points[-1]\n",
    "      smoothed_points.append(previous * factor + point * (1 - factor))\n",
    "    else:\n",
    "      smoothed_points.append(point)\n",
    "  return smoothed_points\n",
    "\n",
    "plt.plot(epochs,\n",
    "         smooth_curve(acc), 'bo', label='Smoothed training acc')\n",
    "plt.plot(epochs,\n",
    "         smooth_curve(val_acc), 'b', label='Smoothed validation acc')\n",
    "plt.title('Training and validation accuracy')\n",
    "plt.legend()\n",
    "\n",
    "plt.figure()\n",
    "\n",
    "plt.plot(epochs,\n",
    "         smooth_curve(loss), 'bo', label='Smoothed training loss')\n",
    "plt.plot(epochs,\n",
    "         smooth_curve(val_loss), 'b', label='Smoothed validation loss')\n",
    "plt.title('Training and validation loss')\n",
    "plt.legend()\n",
    "\n",
    "plt.show()"
   ]
  },
  {
   "cell_type": "code",
   "execution_count": 14,
   "metadata": {
    "ExecuteTime": {
     "end_time": "2018-06-04T13:50:19.270388Z",
     "start_time": "2018-06-04T13:50:12.650380Z"
    }
   },
   "outputs": [
    {
     "name": "stdout",
     "output_type": "stream",
     "text": [
      "Found 1000 images belonging to 2 classes.\n",
      "test acc: 0.9509999918937683\n"
     ]
    }
   ],
   "source": [
    "test_generator = test_datagen.flow_from_directory(\n",
    "        test_dir,\n",
    "        target_size=(150, 150),\n",
    "        batch_size=20,\n",
    "        class_mode='binary')\n",
    "\n",
    "test_loss, test_acc = model.evaluate_generator(test_generator, steps=50)\n",
    "print('test acc:', test_acc)"
   ]
  },
  {
   "cell_type": "code",
   "execution_count": null,
   "metadata": {},
   "outputs": [],
   "source": []
  }
 ],
 "metadata": {
  "kernelspec": {
   "display_name": "Python 3",
   "language": "python",
   "name": "python3"
  },
  "language_info": {
   "codemirror_mode": {
    "name": "ipython",
    "version": 3
   },
   "file_extension": ".py",
   "mimetype": "text/x-python",
   "name": "python",
   "nbconvert_exporter": "python",
   "pygments_lexer": "ipython3",
   "version": "3.6.5"
  },
  "varInspector": {
   "cols": {
    "lenName": 16,
    "lenType": 16,
    "lenVar": 40
   },
   "kernels_config": {
    "python": {
     "delete_cmd_postfix": "",
     "delete_cmd_prefix": "del ",
     "library": "var_list.py",
     "varRefreshCmd": "print(var_dic_list())"
    },
    "r": {
     "delete_cmd_postfix": ") ",
     "delete_cmd_prefix": "rm(",
     "library": "var_list.r",
     "varRefreshCmd": "cat(var_dic_list()) "
    }
   },
   "types_to_exclude": [
    "module",
    "function",
    "builtin_function_or_method",
    "instance",
    "_Feature"
   ],
   "window_display": false
  }
 },
 "nbformat": 4,
 "nbformat_minor": 2
}
