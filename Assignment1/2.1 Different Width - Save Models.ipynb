{
 "cells": [
  {
   "cell_type": "markdown",
   "metadata": {},
   "source": [
    "## 1. Import pakages"
   ]
  },
  {
   "cell_type": "code",
   "execution_count": 1,
   "metadata": {},
   "outputs": [
    {
     "name": "stderr",
     "output_type": "stream",
     "text": [
      "/home/visionnoob/anaconda3/envs/py36tf17/lib/python3.6/site-packages/h5py/__init__.py:36: FutureWarning: Conversion of the second argument of issubdtype from `float` to `np.floating` is deprecated. In future, it will be treated as `np.float64 == np.dtype(float).type`.\n",
      "  from ._conv import register_converters as _register_converters\n",
      "Using TensorFlow backend.\n"
     ]
    },
    {
     "data": {
      "text/plain": [
       "'2.1.6'"
      ]
     },
     "execution_count": 1,
     "metadata": {},
     "output_type": "execute_result"
    }
   ],
   "source": [
    "import keras\n",
    "from keras.callbacks import ModelCheckpoint\n",
    "from keras import models\n",
    "from keras import layers\n",
    "keras.__version__"
   ]
  },
  {
   "cell_type": "code",
   "execution_count": 2,
   "metadata": {},
   "outputs": [],
   "source": [
    "layerwidth1 = 128\n",
    "layerwidth2 = 256\n",
    "layerwidth3 = 512\n",
    "layerwidth4 = 1024\n",
    "layerwidth5 = 2048"
   ]
  },
  {
   "cell_type": "markdown",
   "metadata": {},
   "source": [
    "## 2.1 Set model 1\n",
    "\\# of layers : 1"
   ]
  },
  {
   "cell_type": "code",
   "execution_count": 3,
   "metadata": {},
   "outputs": [],
   "source": [
    "network1 = models.Sequential()\n",
    "network1.add(layers.Dense(layerwidth1, activation='relu', input_shape=(28 * 28,)))\n",
    "network1.add(layers.Dense(layerwidth1, activation='relu', input_shape=(layerwidth1,)))\n",
    "network1.add(layers.Dense(10, activation='softmax'))\n",
    "\n",
    "network1.compile(optimizer='rmsprop',\n",
    "                loss='categorical_crossentropy',\n",
    "                metrics=['accuracy'])\n",
    "\n",
    "network1.save('./models/mnist_width_1(no_trained).h5')"
   ]
  },
  {
   "cell_type": "markdown",
   "metadata": {},
   "source": [
    "## 2.2 Set model 2\n",
    "\\# of layers : 3"
   ]
  },
  {
   "cell_type": "code",
   "execution_count": 4,
   "metadata": {},
   "outputs": [],
   "source": [
    "network2 = models.Sequential()\n",
    "network2.add(layers.Dense(layerwidth2, activation='relu', input_shape=(28 * 28,)))\n",
    "network2.add(layers.Dense(layerwidth2, activation='relu', input_shape=(layerwidth2,)))\n",
    "network2.add(layers.Dense(10, activation='softmax'))\n",
    "\n",
    "network2.compile(optimizer='rmsprop',\n",
    "                loss='categorical_crossentropy',\n",
    "                metrics=['accuracy'])\n",
    "\n",
    "network2.save('./models/mnist_width_2(no_trained).h5')"
   ]
  },
  {
   "cell_type": "markdown",
   "metadata": {},
   "source": [
    "## 2.3 Set model 3\n",
    "\\# of layers : 5"
   ]
  },
  {
   "cell_type": "code",
   "execution_count": 5,
   "metadata": {},
   "outputs": [],
   "source": [
    "network3 = models.Sequential()\n",
    "network3.add(layers.Dense(layerwidth3, activation='relu', input_shape=(28 * 28,)))\n",
    "network3.add(layers.Dense(layerwidth3, activation='relu', input_shape=(layerwidth3,)))\n",
    "network3.add(layers.Dense(10, activation='softmax'))\n",
    "\n",
    "network3.compile(optimizer='rmsprop',\n",
    "                loss='categorical_crossentropy',\n",
    "                metrics=['accuracy'])\n",
    "\n",
    "network3.save('./models/mnist_width_3(no_trained).h5')"
   ]
  },
  {
   "cell_type": "markdown",
   "metadata": {},
   "source": [
    "## 2.4 Set model 4\n",
    "1. \\# of layers : 7"
   ]
  },
  {
   "cell_type": "code",
   "execution_count": 6,
   "metadata": {},
   "outputs": [],
   "source": [
    "network4 = models.Sequential()\n",
    "network4.add(layers.Dense(layerwidth4, activation='relu', input_shape=(28 * 28,)))\n",
    "network4.add(layers.Dense(layerwidth4, activation='relu', input_shape=(layerwidth4,)))\n",
    "network4.add(layers.Dense(10, activation='softmax'))\n",
    "\n",
    "network4.compile(optimizer='rmsprop',\n",
    "                loss='categorical_crossentropy',\n",
    "                metrics=['accuracy'])\n",
    "\n",
    "network4.save('./models/mnist_width_4(no_trained).h5')"
   ]
  },
  {
   "cell_type": "markdown",
   "metadata": {},
   "source": [
    "## 2.5 Set model 5\n",
    "1. \\# of layers : 9"
   ]
  },
  {
   "cell_type": "code",
   "execution_count": 7,
   "metadata": {},
   "outputs": [],
   "source": [
    "network5 = models.Sequential()\n",
    "network5.add(layers.Dense(layerwidth5, activation='relu', input_shape=(28 * 28,)))\n",
    "network5.add(layers.Dense(layerwidth5, activation='relu', input_shape=(layerwidth5,)))\n",
    "network5.add(layers.Dense(10, activation='softmax'))\n",
    "\n",
    "network5.compile(optimizer='rmsprop',\n",
    "                loss='categorical_crossentropy',\n",
    "                metrics=['accuracy'])\n",
    "\n",
    "network5.save('./models/mnist_width_5(no_trained).h5')"
   ]
  }
 ],
 "metadata": {
  "kernelspec": {
   "display_name": "Python 3",
   "language": "python",
   "name": "python3"
  },
  "language_info": {
   "codemirror_mode": {
    "name": "ipython",
    "version": 3
   },
   "file_extension": ".py",
   "mimetype": "text/x-python",
   "name": "python",
   "nbconvert_exporter": "python",
   "pygments_lexer": "ipython3",
   "version": "3.6.5"
  }
 },
 "nbformat": 4,
 "nbformat_minor": 2
}
