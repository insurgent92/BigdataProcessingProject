{
 "cells": [
  {
   "cell_type": "markdown",
   "metadata": {},
   "source": [
    "## 1. Import pakages"
   ]
  },
  {
   "cell_type": "code",
   "execution_count": 21,
   "metadata": {},
   "outputs": [
    {
     "data": {
      "text/plain": [
       "'2.1.6'"
      ]
     },
     "execution_count": 21,
     "metadata": {},
     "output_type": "execute_result"
    }
   ],
   "source": [
    "import keras\n",
    "from keras.callbacks import ModelCheckpoint\n",
    "from keras import models\n",
    "from keras import layers\n",
    "keras.__version__"
   ]
  },
  {
   "cell_type": "markdown",
   "metadata": {},
   "source": [
    "## 2.1 Set model 1\n",
    "\\# of layers : 1"
   ]
  },
  {
   "cell_type": "code",
   "execution_count": 22,
   "metadata": {},
   "outputs": [],
   "source": [
    "network1 = models.Sequential()\n",
    "network1.add(layers.Dense(128, activation='relu', input_shape=(28 * 28,)))\n",
    "network1.add(layers.Dense(128, activation='relu', input_shape=(128,)))\n",
    "network1.add(layers.Dense(10, activation='softmax'))\n",
    "\n",
    "network1.compile(optimizer='rmsprop',\n",
    "                loss='categorical_crossentropy',\n",
    "                metrics=['accuracy'])\n",
    "\n",
    "network1.save('./models/mnist_w_2(no_trained).h5')"
   ]
  },
  {
   "cell_type": "markdown",
   "metadata": {},
   "source": [
    "## 2.2 Set model 2\n",
    "\\# of layers : 3"
   ]
  },
  {
   "cell_type": "code",
   "execution_count": 23,
   "metadata": {},
   "outputs": [],
   "source": [
    "network2 = models.Sequential()\n",
    "network2.add(layers.Dense(512, activation='relu', input_shape=(28 * 28,)))\n",
    "network2.add(layers.Dense(512, activation='relu', input_shape=(512,)))\n",
    "network2.add(layers.Dense(10, activation='softmax'))\n",
    "\n",
    "network2.compile(optimizer='rmsprop',\n",
    "                loss='categorical_crossentropy',\n",
    "                metrics=['accuracy'])\n",
    "\n",
    "network2.save('./models/mnist_depth_2(no_trained).h5')"
   ]
  },
  {
   "cell_type": "markdown",
   "metadata": {},
   "source": [
    "## 2.3 Set model 3\n",
    "\\# of layers : 5"
   ]
  },
  {
   "cell_type": "code",
   "execution_count": 24,
   "metadata": {},
   "outputs": [],
   "source": [
    "network2 = models.Sequential()\n",
    "network2.add(layers.Dense(512, activation='relu', input_shape=(28 * 28,)))\n",
    "network2.add(layers.Dense(512, activation='relu', input_shape=(512,)))\n",
    "network2.add(layers.Dense(10, activation='softmax'))\n",
    "\n",
    "network2.compile(optimizer='rmsprop',\n",
    "                loss='categorical_crossentropy',\n",
    "                metrics=['accuracy'])\n",
    "\n",
    "network2.save('./models/mnist_depth_2(no_trained).h5')"
   ]
  },
  {
   "cell_type": "markdown",
   "metadata": {},
   "source": [
    "## 2.4 Set model 4\n",
    "1. \\# of layers : 7"
   ]
  },
  {
   "cell_type": "code",
   "execution_count": 25,
   "metadata": {},
   "outputs": [],
   "source": [
    "network2 = models.Sequential()\n",
    "network2.add(layers.Dense(512, activation='relu', input_shape=(28 * 28,)))\n",
    "network2.add(layers.Dense(512, activation='relu', input_shape=(512,)))\n",
    "network2.add(layers.Dense(10, activation='softmax'))\n",
    "\n",
    "network2.compile(optimizer='rmsprop',\n",
    "                loss='categorical_crossentropy',\n",
    "                metrics=['accuracy'])\n",
    "\n",
    "network2.save('./models/mnist_depth_2(no_trained).h5')"
   ]
  },
  {
   "cell_type": "markdown",
   "metadata": {},
   "source": [
    "## 2.5 Set model 5\n",
    "1. \\# of layers : 9"
   ]
  },
  {
   "cell_type": "code",
   "execution_count": 26,
   "metadata": {},
   "outputs": [],
   "source": [
    "network2 = models.Sequential()\n",
    "network2.add(layers.Dense(512, activation='relu', input_shape=(28 * 28,)))\n",
    "network2.add(layers.Dense(512, activation='relu', input_shape=(512,)))\n",
    "network2.add(layers.Dense(10, activation='softmax'))\n",
    "\n",
    "network2.compile(optimizer='rmsprop',\n",
    "                loss='categorical_crossentropy',\n",
    "                metrics=['accuracy'])\n",
    "\n",
    "network2.save('./models/mnist_depth_2(no_trained).h5')"
   ]
  }
 ],
 "metadata": {
  "kernelspec": {
   "display_name": "Python 3",
   "language": "python",
   "name": "python3"
  },
  "language_info": {
   "codemirror_mode": {
    "name": "ipython",
    "version": 3
   },
   "file_extension": ".py",
   "mimetype": "text/x-python",
   "name": "python",
   "nbconvert_exporter": "python",
   "pygments_lexer": "ipython3",
   "version": "3.6.5"
  }
 },
 "nbformat": 4,
 "nbformat_minor": 2
}
